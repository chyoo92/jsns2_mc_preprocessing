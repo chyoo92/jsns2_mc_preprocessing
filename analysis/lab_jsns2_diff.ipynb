{
 "cells": [
  {
   "cell_type": "code",
   "execution_count": 1,
   "metadata": {},
   "outputs": [],
   "source": [
    "import h5py\n",
    "import numpy as np\n",
    "import uproot\n",
    "import os\n",
    "import pandas as pd\n",
    "import matplotlib.pyplot as plt"
   ]
  },
  {
   "cell_type": "code",
   "execution_count": 2,
   "metadata": {},
   "outputs": [],
   "source": [
    "f = pd.read_csv('./for_time/mcPMT_jsns2_10MeV_10.csv')"
   ]
  },
  {
   "cell_type": "code",
   "execution_count": 3,
   "metadata": {},
   "outputs": [
    {
     "data": {
      "text/html": [
       "<div>\n",
       "<style scoped>\n",
       "    .dataframe tbody tr th:only-of-type {\n",
       "        vertical-align: middle;\n",
       "    }\n",
       "\n",
       "    .dataframe tbody tr th {\n",
       "        vertical-align: top;\n",
       "    }\n",
       "\n",
       "    .dataframe thead th {\n",
       "        text-align: right;\n",
       "    }\n",
       "</style>\n",
       "<table border=\"1\" class=\"dataframe\">\n",
       "  <thead>\n",
       "    <tr style=\"text-align: right;\">\n",
       "      <th></th>\n",
       "      <th>Run</th>\n",
       "      <th>Event</th>\n",
       "      <th>nPE</th>\n",
       "      <th>Charge1</th>\n",
       "      <th>Charge2</th>\n",
       "      <th>Charge3</th>\n",
       "      <th>Charge4</th>\n",
       "      <th>Charge5</th>\n",
       "      <th>Charge6</th>\n",
       "      <th>Charge7</th>\n",
       "      <th>...</th>\n",
       "      <th>Time111</th>\n",
       "      <th>Time112</th>\n",
       "      <th>Time113</th>\n",
       "      <th>Time114</th>\n",
       "      <th>Time115</th>\n",
       "      <th>Time116</th>\n",
       "      <th>Time117</th>\n",
       "      <th>Time118</th>\n",
       "      <th>Time119</th>\n",
       "      <th>Time120</th>\n",
       "    </tr>\n",
       "  </thead>\n",
       "  <tbody>\n",
       "    <tr>\n",
       "      <th>0</th>\n",
       "      <td>1</td>\n",
       "      <td>0</td>\n",
       "      <td>1707</td>\n",
       "      <td>3.76513</td>\n",
       "      <td>3.30522</td>\n",
       "      <td>7.031340</td>\n",
       "      <td>9.50903</td>\n",
       "      <td>6.588600</td>\n",
       "      <td>18.57270</td>\n",
       "      <td>26.16230</td>\n",
       "      <td>...</td>\n",
       "      <td>0.0</td>\n",
       "      <td>0</td>\n",
       "      <td>0</td>\n",
       "      <td>0</td>\n",
       "      <td>0</td>\n",
       "      <td>0.0</td>\n",
       "      <td>0</td>\n",
       "      <td>0</td>\n",
       "      <td>0</td>\n",
       "      <td>0</td>\n",
       "    </tr>\n",
       "    <tr>\n",
       "      <th>1</th>\n",
       "      <td>1</td>\n",
       "      <td>1</td>\n",
       "      <td>1583</td>\n",
       "      <td>2.84323</td>\n",
       "      <td>8.82886</td>\n",
       "      <td>14.284900</td>\n",
       "      <td>10.56960</td>\n",
       "      <td>14.393300</td>\n",
       "      <td>9.13651</td>\n",
       "      <td>5.23115</td>\n",
       "      <td>...</td>\n",
       "      <td>0.0</td>\n",
       "      <td>0</td>\n",
       "      <td>0</td>\n",
       "      <td>0</td>\n",
       "      <td>0</td>\n",
       "      <td>0.0</td>\n",
       "      <td>0</td>\n",
       "      <td>0</td>\n",
       "      <td>0</td>\n",
       "      <td>0</td>\n",
       "    </tr>\n",
       "    <tr>\n",
       "      <th>2</th>\n",
       "      <td>1</td>\n",
       "      <td>2</td>\n",
       "      <td>1772</td>\n",
       "      <td>53.06060</td>\n",
       "      <td>29.68760</td>\n",
       "      <td>11.262600</td>\n",
       "      <td>8.18931</td>\n",
       "      <td>6.828260</td>\n",
       "      <td>6.11925</td>\n",
       "      <td>3.24998</td>\n",
       "      <td>...</td>\n",
       "      <td>0.0</td>\n",
       "      <td>0</td>\n",
       "      <td>0</td>\n",
       "      <td>0</td>\n",
       "      <td>0</td>\n",
       "      <td>0.0</td>\n",
       "      <td>0</td>\n",
       "      <td>0</td>\n",
       "      <td>0</td>\n",
       "      <td>0</td>\n",
       "    </tr>\n",
       "    <tr>\n",
       "      <th>3</th>\n",
       "      <td>1</td>\n",
       "      <td>3</td>\n",
       "      <td>1634</td>\n",
       "      <td>7.97836</td>\n",
       "      <td>3.91438</td>\n",
       "      <td>8.200600</td>\n",
       "      <td>13.69360</td>\n",
       "      <td>30.619400</td>\n",
       "      <td>10.36450</td>\n",
       "      <td>7.52629</td>\n",
       "      <td>...</td>\n",
       "      <td>0.0</td>\n",
       "      <td>0</td>\n",
       "      <td>0</td>\n",
       "      <td>0</td>\n",
       "      <td>0</td>\n",
       "      <td>0.0</td>\n",
       "      <td>0</td>\n",
       "      <td>0</td>\n",
       "      <td>0</td>\n",
       "      <td>0</td>\n",
       "    </tr>\n",
       "    <tr>\n",
       "      <th>4</th>\n",
       "      <td>1</td>\n",
       "      <td>4</td>\n",
       "      <td>1503</td>\n",
       "      <td>4.11334</td>\n",
       "      <td>6.60636</td>\n",
       "      <td>0.924092</td>\n",
       "      <td>6.40370</td>\n",
       "      <td>10.373700</td>\n",
       "      <td>18.91370</td>\n",
       "      <td>34.56430</td>\n",
       "      <td>...</td>\n",
       "      <td>0.0</td>\n",
       "      <td>0</td>\n",
       "      <td>0</td>\n",
       "      <td>0</td>\n",
       "      <td>0</td>\n",
       "      <td>0.0</td>\n",
       "      <td>0</td>\n",
       "      <td>0</td>\n",
       "      <td>0</td>\n",
       "      <td>0</td>\n",
       "    </tr>\n",
       "    <tr>\n",
       "      <th>...</th>\n",
       "      <td>...</td>\n",
       "      <td>...</td>\n",
       "      <td>...</td>\n",
       "      <td>...</td>\n",
       "      <td>...</td>\n",
       "      <td>...</td>\n",
       "      <td>...</td>\n",
       "      <td>...</td>\n",
       "      <td>...</td>\n",
       "      <td>...</td>\n",
       "      <td>...</td>\n",
       "      <td>...</td>\n",
       "      <td>...</td>\n",
       "      <td>...</td>\n",
       "      <td>...</td>\n",
       "      <td>...</td>\n",
       "      <td>...</td>\n",
       "      <td>...</td>\n",
       "      <td>...</td>\n",
       "      <td>...</td>\n",
       "      <td>...</td>\n",
       "    </tr>\n",
       "    <tr>\n",
       "      <th>95</th>\n",
       "      <td>1</td>\n",
       "      <td>95</td>\n",
       "      <td>1853</td>\n",
       "      <td>7.49707</td>\n",
       "      <td>19.09370</td>\n",
       "      <td>36.243200</td>\n",
       "      <td>37.28580</td>\n",
       "      <td>24.592800</td>\n",
       "      <td>13.64200</td>\n",
       "      <td>20.38590</td>\n",
       "      <td>...</td>\n",
       "      <td>0.0</td>\n",
       "      <td>0</td>\n",
       "      <td>0</td>\n",
       "      <td>0</td>\n",
       "      <td>0</td>\n",
       "      <td>0.0</td>\n",
       "      <td>0</td>\n",
       "      <td>0</td>\n",
       "      <td>0</td>\n",
       "      <td>0</td>\n",
       "    </tr>\n",
       "    <tr>\n",
       "      <th>96</th>\n",
       "      <td>1</td>\n",
       "      <td>96</td>\n",
       "      <td>1799</td>\n",
       "      <td>1.11184</td>\n",
       "      <td>2.56932</td>\n",
       "      <td>8.667110</td>\n",
       "      <td>3.28286</td>\n",
       "      <td>1.042290</td>\n",
       "      <td>2.54462</td>\n",
       "      <td>3.24666</td>\n",
       "      <td>...</td>\n",
       "      <td>0.0</td>\n",
       "      <td>0</td>\n",
       "      <td>0</td>\n",
       "      <td>0</td>\n",
       "      <td>0</td>\n",
       "      <td>0.0</td>\n",
       "      <td>0</td>\n",
       "      <td>0</td>\n",
       "      <td>0</td>\n",
       "      <td>0</td>\n",
       "    </tr>\n",
       "    <tr>\n",
       "      <th>97</th>\n",
       "      <td>1</td>\n",
       "      <td>97</td>\n",
       "      <td>1379</td>\n",
       "      <td>7.27408</td>\n",
       "      <td>5.08291</td>\n",
       "      <td>0.285777</td>\n",
       "      <td>7.89334</td>\n",
       "      <td>0.738786</td>\n",
       "      <td>5.48304</td>\n",
       "      <td>3.99613</td>\n",
       "      <td>...</td>\n",
       "      <td>0.0</td>\n",
       "      <td>0</td>\n",
       "      <td>0</td>\n",
       "      <td>0</td>\n",
       "      <td>0</td>\n",
       "      <td>0.0</td>\n",
       "      <td>0</td>\n",
       "      <td>0</td>\n",
       "      <td>0</td>\n",
       "      <td>0</td>\n",
       "    </tr>\n",
       "    <tr>\n",
       "      <th>98</th>\n",
       "      <td>1</td>\n",
       "      <td>98</td>\n",
       "      <td>1628</td>\n",
       "      <td>11.93100</td>\n",
       "      <td>6.75837</td>\n",
       "      <td>4.360270</td>\n",
       "      <td>9.31539</td>\n",
       "      <td>5.358110</td>\n",
       "      <td>9.20308</td>\n",
       "      <td>5.02901</td>\n",
       "      <td>...</td>\n",
       "      <td>0.0</td>\n",
       "      <td>0</td>\n",
       "      <td>0</td>\n",
       "      <td>0</td>\n",
       "      <td>0</td>\n",
       "      <td>0.0</td>\n",
       "      <td>0</td>\n",
       "      <td>0</td>\n",
       "      <td>0</td>\n",
       "      <td>0</td>\n",
       "    </tr>\n",
       "    <tr>\n",
       "      <th>99</th>\n",
       "      <td>1</td>\n",
       "      <td>99</td>\n",
       "      <td>1914</td>\n",
       "      <td>9.73041</td>\n",
       "      <td>14.34740</td>\n",
       "      <td>49.400500</td>\n",
       "      <td>132.26200</td>\n",
       "      <td>38.993300</td>\n",
       "      <td>13.31890</td>\n",
       "      <td>4.93478</td>\n",
       "      <td>...</td>\n",
       "      <td>0.0</td>\n",
       "      <td>0</td>\n",
       "      <td>0</td>\n",
       "      <td>0</td>\n",
       "      <td>0</td>\n",
       "      <td>0.0</td>\n",
       "      <td>0</td>\n",
       "      <td>0</td>\n",
       "      <td>0</td>\n",
       "      <td>0</td>\n",
       "    </tr>\n",
       "  </tbody>\n",
       "</table>\n",
       "<p>100 rows × 243 columns</p>\n",
       "</div>"
      ],
      "text/plain": [
       "    Run  Event   nPE   Charge1   Charge2    Charge3    Charge4    Charge5  \\\n",
       "0     1      0  1707   3.76513   3.30522   7.031340    9.50903   6.588600   \n",
       "1     1      1  1583   2.84323   8.82886  14.284900   10.56960  14.393300   \n",
       "2     1      2  1772  53.06060  29.68760  11.262600    8.18931   6.828260   \n",
       "3     1      3  1634   7.97836   3.91438   8.200600   13.69360  30.619400   \n",
       "4     1      4  1503   4.11334   6.60636   0.924092    6.40370  10.373700   \n",
       "..  ...    ...   ...       ...       ...        ...        ...        ...   \n",
       "95    1     95  1853   7.49707  19.09370  36.243200   37.28580  24.592800   \n",
       "96    1     96  1799   1.11184   2.56932   8.667110    3.28286   1.042290   \n",
       "97    1     97  1379   7.27408   5.08291   0.285777    7.89334   0.738786   \n",
       "98    1     98  1628  11.93100   6.75837   4.360270    9.31539   5.358110   \n",
       "99    1     99  1914   9.73041  14.34740  49.400500  132.26200  38.993300   \n",
       "\n",
       "     Charge6   Charge7  ...  Time111  Time112  Time113  Time114  Time115  \\\n",
       "0   18.57270  26.16230  ...      0.0        0        0        0        0   \n",
       "1    9.13651   5.23115  ...      0.0        0        0        0        0   \n",
       "2    6.11925   3.24998  ...      0.0        0        0        0        0   \n",
       "3   10.36450   7.52629  ...      0.0        0        0        0        0   \n",
       "4   18.91370  34.56430  ...      0.0        0        0        0        0   \n",
       "..       ...       ...  ...      ...      ...      ...      ...      ...   \n",
       "95  13.64200  20.38590  ...      0.0        0        0        0        0   \n",
       "96   2.54462   3.24666  ...      0.0        0        0        0        0   \n",
       "97   5.48304   3.99613  ...      0.0        0        0        0        0   \n",
       "98   9.20308   5.02901  ...      0.0        0        0        0        0   \n",
       "99  13.31890   4.93478  ...      0.0        0        0        0        0   \n",
       "\n",
       "    Time116  Time117  Time118  Time119  Time120  \n",
       "0       0.0        0        0        0        0  \n",
       "1       0.0        0        0        0        0  \n",
       "2       0.0        0        0        0        0  \n",
       "3       0.0        0        0        0        0  \n",
       "4       0.0        0        0        0        0  \n",
       "..      ...      ...      ...      ...      ...  \n",
       "95      0.0        0        0        0        0  \n",
       "96      0.0        0        0        0        0  \n",
       "97      0.0        0        0        0        0  \n",
       "98      0.0        0        0        0        0  \n",
       "99      0.0        0        0        0        0  \n",
       "\n",
       "[100 rows x 243 columns]"
      ]
     },
     "execution_count": 3,
     "metadata": {},
     "output_type": "execute_result"
    }
   ],
   "source": [
    "f"
   ]
  },
  {
   "cell_type": "code",
   "execution_count": 4,
   "metadata": {},
   "outputs": [],
   "source": [
    "ff = np.array(f)"
   ]
  },
  {
   "cell_type": "code",
   "execution_count": 5,
   "metadata": {},
   "outputs": [],
   "source": [
    "t_charge = []\n",
    "for i in range(100):\n",
    "    t_charge.append(ff[i][3:123].sum())"
   ]
  },
  {
   "cell_type": "code",
   "execution_count": 6,
   "metadata": {},
   "outputs": [],
   "source": [
    "f = uproot.open('/users/yewzzang/work/make_mc_vertex/analysis/for_time/original_10.root')"
   ]
  },
  {
   "cell_type": "code",
   "execution_count": 39,
   "metadata": {
    "scrolled": true
   },
   "outputs": [
    {
     "data": {
      "text/plain": [
       "[<matplotlib.lines.Line2D at 0x7f2d63ae4410>]"
      ]
     },
     "execution_count": 39,
     "metadata": {},
     "output_type": "execute_result"
    },
    {
     "data": {
      "image/png": "[encoded data removed]",
      "text/plain": [
       "<Figure size 432x288 with 1 Axes>"
      ]
     },
     "metadata": {
      "needs_background": "light"
     },
     "output_type": "display_data"
    }
   ],
   "source": [
    "plt.plot(np.average((ff[:,3:123]-aa[:,:120]),axis=0))"
   ]
  },
  {
   "cell_type": "code",
   "execution_count": 15,
   "metadata": {},
   "outputs": [
    {
     "data": {
      "text/plain": [
       "(97, 243)"
      ]
     },
     "execution_count": 15,
     "metadata": {},
     "output_type": "execute_result"
    }
   ],
   "source": [
    "ff[:][3:3+120].shape"
   ]
  },
  {
   "cell_type": "code",
   "execution_count": 38,
   "metadata": {},
   "outputs": [
    {
     "data": {
      "text/plain": [
       "(120,)"
      ]
     },
     "execution_count": 38,
     "metadata": {},
     "output_type": "execute_result"
    }
   ],
   "source": [
    "np.average((ff[:,3:123]-aa[:,:120]),axis=0).shape"
   ]
  },
  {
   "cell_type": "code",
   "execution_count": 33,
   "metadata": {},
   "outputs": [
    {
     "data": {
      "text/plain": [
       "(100, 120)"
      ]
     },
     "execution_count": 33,
     "metadata": {},
     "output_type": "execute_result"
    }
   ],
   "source": [
    "(ff[:,3:123]-aa[:,:120])"
   ]
  },
  {
   "cell_type": "code",
   "execution_count": 9,
   "metadata": {},
   "outputs": [],
   "source": [
    "aa = np.array(f['hitInfo']['PMT_hit'])"
   ]
  },
  {
   "cell_type": "code",
   "execution_count": null,
   "metadata": {
    "scrolled": false
   },
   "outputs": [],
   "source": [
    "for i in range(len(ff)):\n",
    "    plt.plot(ff[i][3:3+120]-aa[i][:120])\n",
    "    plt.xlabel('PMT ID')\n",
    "    plt.ylabel('diff lab charge - jsns2 charge')\n",
    "    plt.show()"
   ]
  },
  {
   "cell_type": "code",
   "execution_count": null,
   "metadata": {},
   "outputs": [],
   "source": [
    "fff = uproot.open('/store/hep/users/yewzzang/JSNS2/rat_mc_positron/positron_10MeV/jade/positron_10MeV_10.root')"
   ]
  },
  {
   "cell_type": "code",
   "execution_count": null,
   "metadata": {},
   "outputs": [],
   "source": [
    "np.array(fff['triggerTree/trigger/pmts/pmts.hasHit'])"
   ]
  },
  {
   "cell_type": "code",
   "execution_count": null,
   "metadata": {},
   "outputs": [],
   "source": []
  },
  {
   "cell_type": "code",
   "execution_count": null,
   "metadata": {},
   "outputs": [],
   "source": []
  },
  {
   "cell_type": "code",
   "execution_count": null,
   "metadata": {},
   "outputs": [],
   "source": [
    "charge_test = []\n",
    "for j in range(96):\n",
    "    charge_test.append(np.array(fff['triggerTree/trigger/eventsID/eventsID.pmtCharges'])[0][0][j])\n",
    "print(charge_test)"
   ]
  },
  {
   "cell_type": "code",
   "execution_count": null,
   "metadata": {
    "scrolled": true
   },
   "outputs": [],
   "source": [
    "for i in range(len(ff)):\n",
    "    charge_test = []\n",
    "    for j in range(96):\n",
    "        charge_test.append(np.array(fff['triggerTree/trigger/eventsID/eventsID.pmtCharges'])[0][0][j])\n",
    "    plt.plot(ff[i][3:3+96]-np.array(charge_test))\n",
    "    plt.xlabel('PMT ID')\n",
    "    plt.ylabel('diff lab charge - jsns2 jade charge')\n",
    "    plt.show()\n",
    "    \n",
    "    \n",
    "    \n",
    "    "
   ]
  },
  {
   "cell_type": "code",
   "execution_count": null,
   "metadata": {
    "scrolled": true
   },
   "outputs": [],
   "source": [
    "np.array(fff['triggerTree/trigger/eventsID/eventsID.qTotal'])"
   ]
  },
  {
   "cell_type": "code",
   "execution_count": null,
   "metadata": {},
   "outputs": [],
   "source": [
    "print(ff[0][3:123].sum())\n",
    "print(ff[1][3:123].sum())"
   ]
  },
  {
   "cell_type": "code",
   "execution_count": null,
   "metadata": {},
   "outputs": [],
   "source": [
    "diff_tQ = []\n",
    "for i in range(len(ff[0])):\n",
    "    print(ff[i][3:3+96].sum()-ff[i][3:3+120].sum())\n",
    "    diff_tQ.append(ff[i][3:3+96].sum()-ff[i][3:3+120].sum())\n",
    "    "
   ]
  },
  {
   "cell_type": "code",
   "execution_count": null,
   "metadata": {},
   "outputs": [],
   "source": [
    "plt.plot(diff_tQ)"
   ]
  },
  {
   "cell_type": "code",
   "execution_count": null,
   "metadata": {},
   "outputs": [],
   "source": [
    "lab 96 PMT TQ\n",
    "lab 120 PMT TQ\n",
    "jsns2 96 PMT TQ\n",
    "jsns2 120 PMT TQ\n",
    "jsns2 jade 96 PMT TA\n",
    "\n",
    "\n",
    "diff lab 96 charge jsns2 96 charge\n",
    "diff lab 120 charge jsns2 120 charge\n",
    "\n",
    "diff lab 96 Tcharge jsns2 96 Tcharge\n",
    "diff lab 120 Tcharge jsns2 120 Tcharge\n",
    "\n",
    "diff lab 96 charge jsns2 jade charge\n",
    "diff lab 96 Tcharge jsns2 jade Tcharge\n",
    "\n",
    "diff jsns2 96 charge jsns2 jade charge\n",
    "diff jsns2 96 Tcharge jsns2 jade Tcharge"
   ]
  },
  {
   "cell_type": "code",
   "execution_count": null,
   "metadata": {},
   "outputs": [],
   "source": [
    "#### lab 96 Tcharge\n",
    "lab_96_Tcharge = []\n",
    "lab_120_Tcharge = []\n",
    "for j in range(100):\n",
    "    lab_96_Tcharge.append(ff[j][3:3+96].sum())\n",
    "    lab_120_Tcharge.append(ff[j][3:3+120].sum())"
   ]
  },
  {
   "cell_type": "code",
   "execution_count": null,
   "metadata": {},
   "outputs": [],
   "source": [
    "#### lab 96 Tcharge\n",
    "jsns2_96_Tcharge = []\n",
    "jsns2_120_Tcharge = []\n",
    "for j in range(100):\n",
    "    jsns2_96_Tcharge.append(aa[j][:96].sum())\n",
    "    jsns2_120_Tcharge.append(aa[j][:120].sum())"
   ]
  },
  {
   "cell_type": "code",
   "execution_count": null,
   "metadata": {},
   "outputs": [],
   "source": [
    "plt.plot(np.array(lab_96_Tcharge)-np.array(jsns2_96_Tcharge))\n",
    "plt.xlabel('Event')\n",
    "plt.ylabel('diff lab 96 Tcharge - jsns2 96 Tcharge')\n",
    "plt.show()\n",
    "plt.plot(np.array(lab_120_Tcharge)-np.array(jsns2_120_Tcharge))\n",
    "plt.xlabel('Event')\n",
    "plt.ylabel('diff lab 120 Tcharge - jsns2 120 Tcharge')\n",
    "plt.show()\n",
    "\n",
    "\n",
    "\n",
    "plt.plot(np.array(jade_96_Tcharge)-np.array(jsns2_96_Tcharge))\n",
    "plt.xlabel('Event')\n",
    "plt.ylabel('diff jade 96 Tcharge - jsns2 96 Tcharge')\n",
    "plt.show()\n",
    "plt.plot(np.array(jade_96_Tcharge) - np.array(lab_96_Tcharge))\n",
    "plt.xlabel('Event')\n",
    "plt.ylabel('diff jade 96 Tcharge - lab 96 Tcharge')\n",
    "plt.show()\n",
    "\n",
    "\n",
    "\n",
    "\n",
    "\n",
    "\n"
   ]
  },
  {
   "cell_type": "code",
   "execution_count": null,
   "metadata": {},
   "outputs": [],
   "source": []
  },
  {
   "cell_type": "code",
   "execution_count": null,
   "metadata": {},
   "outputs": [],
   "source": []
  },
  {
   "cell_type": "code",
   "execution_count": null,
   "metadata": {},
   "outputs": [],
   "source": []
  },
  {
   "cell_type": "code",
   "execution_count": null,
   "metadata": {
    "scrolled": true
   },
   "outputs": [],
   "source": [
    "### diff lab 96 charge -jsns2 96 charge\n",
    "\n",
    "for i in range(3):\n",
    "    plt.plot(ff[i][3:3+96]-aa[i][:96])\n",
    "    plt.xlabel('PMT ID')\n",
    "    plt.ylabel('diff lab 96 charge - jsns2 96 charge')\n",
    "    plt.show()"
   ]
  },
  {
   "cell_type": "code",
   "execution_count": null,
   "metadata": {
    "scrolled": true
   },
   "outputs": [],
   "source": [
    "### diff lab 120 charge -jsns2 120 charge\n",
    "\n",
    "for i in range(3):\n",
    "    plt.plot(ff[i][3:3+120]-aa[i][:120])\n",
    "    plt.xlabel('PMT ID')\n",
    "    plt.ylabel('diff lab 120 charge - jsns2 120 charge')\n",
    "    plt.show()"
   ]
  },
  {
   "cell_type": "code",
   "execution_count": null,
   "metadata": {},
   "outputs": [],
   "source": []
  },
  {
   "cell_type": "code",
   "execution_count": null,
   "metadata": {},
   "outputs": [],
   "source": []
  },
  {
   "cell_type": "code",
   "execution_count": null,
   "metadata": {
    "scrolled": true
   },
   "outputs": [],
   "source": [
    "### diff lab 96 charge -jsns2 jade 96 charge\n",
    "\n",
    "for i in range(3):\n",
    "    charge_test = []\n",
    "    for j in range(96):\n",
    "        charge_test.append(np.array(fff['triggerTree/trigger/eventsID/eventsID.pmtCharges'])[0][0][j])\n",
    "    plt.plot(ff[i][3:3+96]-np.array(charge_test))\n",
    "    plt.xlabel('PMT ID')\n",
    "    plt.ylabel('diff lab 96 charge - jsns2 jade 96 charge')\n",
    "    plt.show()\n",
    "    \n",
    "    \n",
    "    \n",
    "    "
   ]
  },
  {
   "cell_type": "code",
   "execution_count": null,
   "metadata": {
    "scrolled": true
   },
   "outputs": [],
   "source": [
    "### diff jsns2 96 charge -jsns2 jade 96 charge\n",
    "\n",
    "for i in range(3):\n",
    "    charge_test = []\n",
    "    for j in range(96):\n",
    "        charge_test.append(np.array(fff['triggerTree/trigger/eventsID/eventsID.pmtCharges'])[0][0][j])\n",
    "    plt.plot(aa[i][:96]-np.array(charge_test))\n",
    "    plt.xlabel('PMT ID')\n",
    "    plt.ylabel('diff jsns2 96 charge - jsns2 jade 96 charge')\n",
    "    plt.show()\n",
    "    \n",
    "    \n",
    "    \n",
    "    "
   ]
  },
  {
   "cell_type": "code",
   "execution_count": null,
   "metadata": {},
   "outputs": [],
   "source": [
    "jade_96_Tcharge = []\n",
    "\n",
    "for i in range(100):\n",
    "    charge_test = []\n",
    "    for j in range(96):\n",
    "        charge_test.append(np.array(fff['triggerTree/trigger/eventsID/eventsID.pmtCharges'])[i][0][j])\n",
    "    jade_96_Tcharge.append(np.array(charge_test).sum())\n",
    "    \n",
    "    \n",
    "    "
   ]
  },
  {
   "cell_type": "code",
   "execution_count": null,
   "metadata": {},
   "outputs": [],
   "source": [
    "jade_96_Tcharge"
   ]
  },
  {
   "cell_type": "code",
   "execution_count": null,
   "metadata": {},
   "outputs": [],
   "source": []
  },
  {
   "cell_type": "code",
   "execution_count": null,
   "metadata": {},
   "outputs": [],
   "source": []
  },
  {
   "cell_type": "code",
   "execution_count": null,
   "metadata": {},
   "outputs": [],
   "source": []
  },
  {
   "cell_type": "code",
   "execution_count": null,
   "metadata": {},
   "outputs": [],
   "source": []
  }
 ],
 "metadata": {
  "kernelspec": {
   "display_name": "Python 3",
   "language": "python",
   "name": "python3"
  },
  "language_info": {
   "codemirror_mode": {
    "name": "ipython",
    "version": 3
   },
   "file_extension": ".py",
   "mimetype": "text/x-python",
   "name": "python",
   "nbconvert_exporter": "python",
   "pygments_lexer": "ipython3",
   "version": "3.7.9"
  }
 },
 "nbformat": 4,
 "nbformat_minor": 4
}
