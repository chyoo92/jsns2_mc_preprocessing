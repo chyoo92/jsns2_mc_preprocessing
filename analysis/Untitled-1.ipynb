{
 "cells": [
  {
   "cell_type": "code",
   "execution_count": 3,
   "metadata": {},
   "outputs": [],
   "source": [
    "import h5py\n",
    "import numpy as np"
   ]
  },
  {
   "cell_type": "code",
   "execution_count": 63,
   "metadata": {},
   "outputs": [],
   "source": []
  },
  {
   "cell_type": "code",
   "execution_count": 71,
   "metadata": {},
   "outputs": [
    {
     "name": "stdout",
     "output_type": "stream",
     "text": [
      "0\n",
      "[[1.]\n",
      " [1.]\n",
      " [1.]\n",
      " ...\n",
      " [1.]\n",
      " [1.]\n",
      " [1.]]\n",
      "1\n",
      "[[2.]\n",
      " [2.]\n",
      " [2.]\n",
      " ...\n",
      " [2.]\n",
      " [2.]\n",
      " [2.]]\n",
      "2\n",
      "[[3.]\n",
      " [3.]\n",
      " [3.]\n",
      " ...\n",
      " [3.]\n",
      " [3.]\n",
      " [3.]]\n",
      "3\n",
      "[[4.]\n",
      " [4.]\n",
      " [4.]\n",
      " ...\n",
      " [4.]\n",
      " [4.]\n",
      " [4.]]\n",
      "4\n",
      "[[5.]\n",
      " [5.]\n",
      " [5.]\n",
      " ...\n",
      " [5.]\n",
      " [5.]\n",
      " [5.]]\n",
      "5\n",
      "[[6.]\n",
      " [6.]\n",
      " [6.]\n",
      " ...\n",
      " [6.]\n",
      " [6.]\n",
      " [6.]]\n",
      "6\n",
      "[[7.]\n",
      " [7.]\n",
      " [7.]\n",
      " ...\n",
      " [7.]\n",
      " [7.]\n",
      " [7.]]\n",
      "7\n",
      "[[8.]\n",
      " [8.]\n",
      " [8.]\n",
      " ...\n",
      " [8.]\n",
      " [8.]\n",
      " [8.]]\n",
      "8\n",
      "[[9.]\n",
      " [9.]\n",
      " [9.]\n",
      " ...\n",
      " [9.]\n",
      " [9.]\n",
      " [9.]]\n",
      "9\n",
      "[[10.]\n",
      " [10.]\n",
      " [10.]\n",
      " ...\n",
      " [10.]\n",
      " [10.]\n",
      " [10.]]\n"
     ]
    }
   ],
   "source": [
    "for i in range(10):\n",
    "    print(i)\n",
    "\n",
    "    path = '/users/yewzzang/work/make_mc_vertex/analysis/mc_data_1207/positron_'+str(i+1)+'MeV.h5'\n",
    "    output_name ='/users/yewzzang/work/make_mc_vertex/analysis/mc_data_0105/positron_'+str(i+1)+'MeV.h5'\n",
    "\n",
    "    file = h5py.File(path,'r')\n",
    "\n",
    "    out_jade_vertex = np.array(file['events']['jade_vertex'])\n",
    "    out_vertex = np.array(file['events']['vertex'])\n",
    "    out_pmtQ = np.array(file['events']['pmtQ'])\n",
    "    out_energy = ((i+1)*np.ones(out_pmtQ.shape[0])).reshape(-1,1)\n",
    "    print(out_energy)\n",
    "    kwargs = {'dtype':'f4', 'compression':'lzf'}\n",
    "    #     with h5py.File(output_path, 'w', libver='latest', swmr=True) as fout:\n",
    "\n",
    "    with h5py.File(output_name, 'w', libver='latest', swmr=True) as fout:\n",
    "        g = fout.create_group('events')\n",
    "\n",
    "        g.create_dataset('pmtQ', data=out_pmtQ, chunks=(1,96,1),**kwargs)\n",
    "        g.create_dataset('jade_vertex', data=out_jade_vertex, chunks=(1,3),**kwargs)\n",
    "        g.create_dataset('vertex', data=out_vertex, chunks=(1,3),**kwargs)\n",
    "        g.create_dataset('energy', data=out_energy, chunks=(1,1),**kwargs)"
   ]
  },
  {
   "cell_type": "code",
   "execution_count": 65,
   "metadata": {},
   "outputs": [],
   "source": []
  },
  {
   "cell_type": "code",
   "execution_count": 66,
   "metadata": {},
   "outputs": [],
   "source": []
  },
  {
   "cell_type": "code",
   "execution_count": 67,
   "metadata": {},
   "outputs": [],
   "source": []
  },
  {
   "cell_type": "code",
   "execution_count": 11,
   "metadata": {},
   "outputs": [],
   "source": []
  }
 ],
 "metadata": {
  "kernelspec": {
   "display_name": "Python 3",
   "language": "python",
   "name": "python3"
  },
  "language_info": {
   "codemirror_mode": {
    "name": "ipython",
    "version": 3
   },
   "file_extension": ".py",
   "mimetype": "text/x-python",
   "name": "python",
   "nbconvert_exporter": "python",
   "pygments_lexer": "ipython3",
   "version": "3.7.9"
  },
  "orig_nbformat": 4,
  "vscode": {
   "interpreter": {
    "hash": "6244045e8cc9457f38c837256e1ba8ae0bd26bc146e750328e9b8506877d18c1"
   }
  }
 },
 "nbformat": 4,
 "nbformat_minor": 2
}
